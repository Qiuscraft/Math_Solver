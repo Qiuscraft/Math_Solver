{
 "cells": [
  {
   "cell_type": "markdown",
   "id": "fad57205-9839-4c40-b791-03d60cdc21f5",
   "metadata": {},
   "source": [
    "# Train Model with DPO\n",
    "\n",
    "Code authored by: Shaw Talebi"
   ]
  },
  {
   "cell_type": "markdown",
   "id": "70487db3-18d6-4e79-93fc-905e714f0cd5",
   "metadata": {},
   "source": [
    "### imports"
   ]
  },
  {
   "cell_type": "code",
   "id": "d6b288de-ec97-4cda-bba2-d35fcbc62f8b",
   "metadata": {
    "ExecuteTime": {
     "end_time": "2025-05-23T17:07:19.205754Z",
     "start_time": "2025-05-23T17:07:03.488292Z"
    }
   },
   "source": [
    "from trl import DPOConfig, DPOTrainer\n",
    "from transformers import AutoModelForCausalLM, AutoTokenizer\n",
    "import torch\n",
    "import json\n",
    "from datasets import Dataset\n",
    "import pandas as pd\n",
    "from modelscope import snapshot_download"
   ],
   "outputs": [
    {
     "name": "stderr",
     "output_type": "stream",
     "text": [
      "D:\\2025Spring\\AI\\PJ\\Math_Solver\\.venv\\lib\\site-packages\\tqdm\\auto.py:21: TqdmWarning: IProgress not found. Please update jupyter and ipywidgets. See https://ipywidgets.readthedocs.io/en/stable/user_install.html\n",
      "  from .autonotebook import tqdm as notebook_tqdm\n"
     ]
    }
   ],
   "execution_count": 1
  },
  {
   "cell_type": "markdown",
   "id": "897ecf2d-3ae3-4d6b-9c9d-273f51dbcc21",
   "metadata": {},
   "source": [
    "### load data"
   ]
  },
  {
   "cell_type": "code",
   "id": "5bb6e848-eaee-4fd7-8a86-8dc1dcc87711",
   "metadata": {
    "ExecuteTime": {
     "end_time": "2025-05-23T17:10:31.990285Z",
     "start_time": "2025-05-23T17:10:31.700243Z"
    }
   },
   "source": [
    "# 读取jsonl文件\n",
    "def load_jsonl(file_path):\n",
    "    data = []\n",
    "    with open(file_path, 'r', encoding='utf-8') as f:\n",
    "        for line in f:\n",
    "            data.append(json.loads(line))\n",
    "    return data\n",
    "\n",
    "# 加载训练数据\n",
    "train_data = load_jsonl('train.jsonl')\n",
    "\n",
    "# 处理数据为DPO所需格式\n",
    "processed_data = []\n",
    "for item in train_data:\n",
    "    # 获取用户消息内容\n",
    "    prompt = str(item['messages'][0]['content'])\n",
    "    # 获取选择的和拒绝的回答\n",
    "    chosen = item['chosen']['content']\n",
    "    rejected = item['rejected']['content']\n",
    "\n",
    "    processed_data.append({\n",
    "        'prompt': [{'role': 'user', 'content': prompt}],\n",
    "        'chosen': chosen,\n",
    "        'rejected': rejected\n",
    "    })\n",
    "\n",
    "# 创建训练数据集\n",
    "train_dataset = Dataset.from_pandas(pd.DataFrame(processed_data))\n",
    "\n",
    "# 划分验证集 (取20%的数据作为验证集)\n",
    "dataset = train_dataset.train_test_split(test_size=0.2)\n",
    "dataset = {\n",
    "    'train': dataset['train'],\n",
    "    'valid': dataset['test']  # 验证集\n",
    "}"
   ],
   "outputs": [],
   "execution_count": 4
  },
  {
   "cell_type": "markdown",
   "id": "558119ea-32a7-4125-84f6-20463821ea3d",
   "metadata": {},
   "source": [
    "### load model"
   ]
  },
  {
   "cell_type": "code",
   "id": "a6e7c0fb-7b79-4b1f-8859-e822f087da21",
   "metadata": {},
   "source": [
    "model_dir = snapshot_download(\"Qwen/Qwen3-0.6B\", cache_dir=\"./\", revision=\"master\")\n",
    "model_name = \"Qwen/Qwen3-0.6B\"\n",
    "\n",
    "model = AutoModelForCausalLM.from_pretrained(model_name)\n",
    "tokenizer = AutoTokenizer.from_pretrained(model_name)\n",
    "tokenizer.pad_token = tokenizer.eos_token # set pad token"
   ],
   "outputs": [],
   "execution_count": null
  },
  {
   "cell_type": "code",
   "id": "d6b4e8a7-8860-4726-8783-437e10072e3c",
   "metadata": {},
   "source": [
    "training_args = DPOConfig(\n",
    "    output_dir='./dpo',\n",
    "    logging_steps=25,\n",
    "    per_device_train_batch_size=1,\n",
    "    per_device_eval_batch_size=1,\n",
    "    num_train_epochs=3,\n",
    "    load_best_model_at_end=True,\n",
    "    metric_for_best_model=\"eval_loss\",\n",
    "    save_strategy=\"epoch\",\n",
    "    eval_strategy=\"epoch\",\n",
    "    eval_steps=1,\n",
    ")\n",
    "\n",
    "device = torch.device('cuda')"
   ],
   "outputs": [],
   "execution_count": null
  },
  {
   "cell_type": "code",
   "id": "87714294-1cdf-4f55-8040-c7aefbec55e7",
   "metadata": {},
   "source": [
    "trainer = DPOTrainer(\n",
    "    model=model, \n",
    "    args=training_args, \n",
    "    processing_class=tokenizer, \n",
    "    train_dataset=dataset['train'],\n",
    "    eval_dataset=dataset['valid'],\n",
    ")\n",
    "trainer.train()\n"
   ],
   "outputs": [],
   "execution_count": null
  }
 ],
 "metadata": {
  "kernelspec": {
   "display_name": "Python 3 (ipykernel)",
   "language": "python",
   "name": "python3"
  },
  "language_info": {
   "codemirror_mode": {
    "name": "ipython",
    "version": 3
   },
   "file_extension": ".py",
   "mimetype": "text/x-python",
   "name": "python",
   "nbconvert_exporter": "python",
   "pygments_lexer": "ipython3",
   "version": "3.12.8"
  }
 },
 "nbformat": 4,
 "nbformat_minor": 5
}
